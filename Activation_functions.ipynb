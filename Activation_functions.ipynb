{
  "nbformat": 4,
  "nbformat_minor": 0,
  "metadata": {
    "colab": {
      "name": "Activation_functions.ipynb",
      "provenance": [],
      "collapsed_sections": []
    },
    "kernelspec": {
      "name": "python3",
      "display_name": "Python 3"
    },
    "language_info": {
      "name": "python"
    }
  },
  "cells": [
    {
      "cell_type": "code",
      "metadata": {
        "id": "HlVHmbgxfpNV"
      },
      "source": [
        "import numpy as np\n",
        "import tensorflow as tf"
      ],
      "execution_count": 8,
      "outputs": []
    },
    {
      "cell_type": "code",
      "metadata": {
        "id": "ZhlpcugwjDvt"
      },
      "source": [
        "def sigmoid(x):\n",
        "    # x = 1 / (1 + e^(-x))\n",
        "    # return tf.nn.sigmoid(x)\n",
        "    return 1 / (1 + tf.math.exp(-1 * x))\n",
        "    "
      ],
      "execution_count": 33,
      "outputs": []
    },
    {
      "cell_type": "code",
      "metadata": {
        "id": "ZPqvQ_2ghcyH"
      },
      "source": [
        "def swish(x):\n",
        "    # x * sigmoid(x)\n",
        "    # return x* tf.nn.sigmoid(x)\n",
        "    return x  *  1/ (1 + tf.math.exp(-1 * x))"
      ],
      "execution_count": 34,
      "outputs": []
    },
    {
      "cell_type": "code",
      "metadata": {
        "id": "Vr5XJjjFkQT9"
      },
      "source": [
        "def mish(x):\n",
        "    # x * tanh(e^x_below_threshold, ln(1 + e^x)_with_threshold, x_above_threshold)\n",
        "    # x *tanh(ln(1+e^x))\n",
        "    threshold = 20\n",
        "    tmp = x\n",
        "    x = tf.where(tf.logical_and(tf.less(x, threshold), tf.greater(x, -1 * threshold)),\n",
        "                                tf.math.log(1 + tf.exp(x)), tf.zeros_like(x))\n",
        "    x = tf.where(tf.less(x, -1 * threshold), tf.exp(x), x)\n",
        "    x = tf.tanh(x)\n",
        "    return tmp * x "
      ],
      "execution_count": 48,
      "outputs": []
    },
    {
      "cell_type": "code",
      "metadata": {
        "colab": {
          "base_uri": "https://localhost:8080/"
        },
        "id": "fAtktxDsiANP",
        "outputId": "2ecfd9f4-c63b-43ce-e262-ab87976f5f77"
      },
      "source": [
        "a = tf.constant([-21, -1.0, 0.0, 1.0, 20], dtype = tf.float32)\n",
        "print(sigmoid(a).numpy())\n",
        "print(swish(a).numpy())\n",
        "print(mish(a).numpy())"
      ],
      "execution_count": 50,
      "outputs": [
        {
          "output_type": "stream",
          "text": [
            "[7.5825601e-10 2.6894143e-01 5.0000000e-01 7.3105860e-01 1.0000000e+00]\n",
            "[-1.5923376e-08 -2.6894143e-01  0.0000000e+00  7.3105860e-01\n",
            "  2.0000000e+01]\n",
            "[-0.        -0.3034014  0.         0.8650984  0.       ]\n"
          ],
          "name": "stdout"
        }
      ]
    }
  ]
}